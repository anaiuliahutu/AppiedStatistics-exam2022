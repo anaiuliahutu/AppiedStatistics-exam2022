{
 "cells": [
  {
   "cell_type": "code",
   "execution_count": 80,
   "metadata": {},
   "outputs": [],
   "source": [
    "#Problem 3.1\n",
    "\n",
    "import math\n",
    "import numpy.random as rnd\n",
    "import numpy as np\n",
    "import matplotlib.pyplot as plt\n",
    "import scipy.stats as stats"
   ]
  },
  {
   "cell_type": "code",
   "execution_count": 81,
   "metadata": {},
   "outputs": [],
   "source": [
    "def MC_normal(mean, std, samples):\n",
    "    results=[]\n",
    "    for i in range(samples):\n",
    "        results.append(rnd.normal(mean,std))\n",
    "    return np.array(results)"
   ]
  },
  {
   "cell_type": "code",
   "execution_count": 82,
   "metadata": {},
   "outputs": [],
   "source": [
    "arrival=120\n",
    "departure=50\n",
    "delta_t=130\n",
    "nr_of_samples=100000\n",
    "max_time=1440 #minutes in a day\n",
    "arrival_time=MC_normal(arrival, delta_t, nr_of_samples)\n",
    "departure_time=MC_normal(departure, delta_t, nr_of_samples)\n",
    "total_time=arrival_time+departure_time\n"
   ]
  }
 ],
 "metadata": {
  "kernelspec": {
   "display_name": "Python 3",
   "language": "python",
   "name": "python3"
  },
  "language_info": {
   "codemirror_mode": {
    "name": "ipython",
    "version": 3
   },
   "file_extension": ".py",
   "mimetype": "text/x-python",
   "name": "python",
   "nbconvert_exporter": "python",
   "pygments_lexer": "ipython3",
   "version": "3.10.9 (tags/v3.10.9:1dd9be6, Dec  6 2022, 20:01:21) [MSC v.1934 64 bit (AMD64)]"
  },
  "orig_nbformat": 4,
  "vscode": {
   "interpreter": {
    "hash": "ec858eb2ddeaf5ecab38a20b0a01e5fef281c0416494ede6ae0ed2954494f330"
   }
  }
 },
 "nbformat": 4,
 "nbformat_minor": 2
}
