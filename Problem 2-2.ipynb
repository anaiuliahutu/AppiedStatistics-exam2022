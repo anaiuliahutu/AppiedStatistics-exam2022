{
 "cells": [
  {
   "cell_type": "code",
   "execution_count": 96,
   "metadata": {},
   "outputs": [],
   "source": [
    "#Problem 2.2.1\n",
    "\n",
    "import math\n",
    "import numpy as np\n",
    "import scipy.stats as stats\n",
    "import matplotlib.pyplot as plt"
   ]
  },
  {
   "cell_type": "code",
   "execution_count": 97,
   "metadata": {},
   "outputs": [
    {
     "name": "stdout",
     "output_type": "stream",
     "text": [
      "5.279305828390056\n",
      "0.06005034708204228\n",
      "16.694033875671384\n",
      "9.487729036781154\n",
      "0.002216203483735746\n"
     ]
    }
   ],
   "source": [
    "x=[5.5, 5.61, 4.88, 5.07, 5.26]\n",
    "sigma=[0.1, 0.21, 0.15, 0.14, 0.13]\n",
    "info=[x,sigma]\n",
    "up=0\n",
    "down=0\n",
    "for i in range (0,5):\n",
    "    up=up + x[i]/math.pow(sigma[i],2)\n",
    "    down=down + 1/math.pow(sigma[i],2)\n",
    "weighted_mean=up/down\n",
    "uncertainty_of_mean=math.sqrt(1/down)\n",
    "\n",
    "print(weighted_mean)\n",
    "print(uncertainty_of_mean)\n",
    "chi2=0\n",
    "for i in range (0,5):\n",
    "    chi2=chi2 + math.pow(x[i]-weighted_mean,2)/math.pow(sigma[i],2)\n",
    "crit=stats.chi2.ppf(q=0.95, df=4)\n",
    "p_value=1-stats.chi2.cdf(x=chi2, df=4)\n",
    "print(chi2)\n",
    "print(crit)\n",
    "print(p_value)\n"
   ]
  },
  {
   "cell_type": "code",
   "execution_count": 98,
   "metadata": {},
   "outputs": [
    {
     "name": "stdout",
     "output_type": "stream",
     "text": [
      "Ttest_1sampResult(statistic=-1.8620456557741227, pvalue=0.13607782449951283)\n"
     ]
    }
   ],
   "source": [
    "#t-test\n",
    "true_value=5.514\n",
    "t=stats.ttest_1samp(x, true_value)\n",
    "print(t)"
   ]
  },
  {
   "cell_type": "code",
   "execution_count": null,
   "metadata": {},
   "outputs": [],
   "source": []
  }
 ],
 "metadata": {
  "kernelspec": {
   "display_name": "Python 3",
   "language": "python",
   "name": "python3"
  },
  "language_info": {
   "codemirror_mode": {
    "name": "ipython",
    "version": 3
   },
   "file_extension": ".py",
   "mimetype": "text/x-python",
   "name": "python",
   "nbconvert_exporter": "python",
   "pygments_lexer": "ipython3",
   "version": "3.10.9 (tags/v3.10.9:1dd9be6, Dec  6 2022, 20:01:21) [MSC v.1934 64 bit (AMD64)]"
  },
  "orig_nbformat": 4,
  "vscode": {
   "interpreter": {
    "hash": "ec858eb2ddeaf5ecab38a20b0a01e5fef281c0416494ede6ae0ed2954494f330"
   }
  }
 },
 "nbformat": 4,
 "nbformat_minor": 2
}
