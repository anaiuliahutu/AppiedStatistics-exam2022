{
 "cells": [
  {
   "cell_type": "code",
   "execution_count": 35,
   "metadata": {},
   "outputs": [],
   "source": [
    "#Problem 2.3\n",
    "\n",
    "import math\n",
    "import numpy as np\n",
    "import scipy.stats as stats"
   ]
  },
  {
   "cell_type": "code",
   "execution_count": 36,
   "metadata": {},
   "outputs": [
    {
     "name": "stdout",
     "output_type": "stream",
     "text": [
      "Result=     0.843+/-     0.525\n"
     ]
    }
   ],
   "source": [
    "from uncertainties import ufloat\n",
    "a=ufloat(1.04, 0.27)\n",
    "ep=ufloat(0.71, 0.12)\n",
    "A=math.pi*(a**2)*((1-ep**2)**1/2)\n",
    "print('Result={:10.3f}'.format(A))"
   ]
  }
 ],
 "metadata": {
  "kernelspec": {
   "display_name": "Python 3",
   "language": "python",
   "name": "python3"
  },
  "language_info": {
   "codemirror_mode": {
    "name": "ipython",
    "version": 3
   },
   "file_extension": ".py",
   "mimetype": "text/x-python",
   "name": "python",
   "nbconvert_exporter": "python",
   "pygments_lexer": "ipython3",
   "version": "3.10.9 (tags/v3.10.9:1dd9be6, Dec  6 2022, 20:01:21) [MSC v.1934 64 bit (AMD64)]"
  },
  "orig_nbformat": 4,
  "vscode": {
   "interpreter": {
    "hash": "ec858eb2ddeaf5ecab38a20b0a01e5fef281c0416494ede6ae0ed2954494f330"
   }
  }
 },
 "nbformat": 4,
 "nbformat_minor": 2
}
